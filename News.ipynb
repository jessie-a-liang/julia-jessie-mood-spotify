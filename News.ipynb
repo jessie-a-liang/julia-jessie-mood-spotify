{
 "cells": [
  {
   "cell_type": "code",
   "execution_count": 55,
   "id": "3475c7e6-25e3-47e5-a535-155d94e9cb6c",
   "metadata": {},
   "outputs": [],
   "source": [
    "from newsapi import NewsApiClient\n",
    "import urllib.request\n",
    "import openai\n",
    "\n",
    "\n",
    "with open(\"news.txt\", \"r\") as file:\n",
    "    key = file.read()\n",
    "\n",
    "api = NewsApiClient(api_key= key)\n",
    "\n",
    "with open(\"openai.txt\", \"r\") as file:\n",
    "    keyai = file.read()\n",
    "    \n",
    "openai.api_key = keyai\n",
    "\n"
   ]
  },
  {
   "cell_type": "code",
   "execution_count": 56,
   "id": "451208cd-1b76-40ba-aaae-ad09bf044717",
   "metadata": {},
   "outputs": [],
   "source": [
    "def get_completion(prompt, model=\"gpt-3.5-turbo\"):\n",
    "    messages = [{\"role\": \"user\", \"content\": prompt}]\n",
    "    response = openai.ChatCompletion.create(\n",
    "    model=model,\n",
    "    messages=messages,\n",
    "    temperature=1,\n",
    ")\n",
    "\n",
    "    return response.choices[0].message[\"content\"]"
   ]
  },
  {
   "cell_type": "code",
   "execution_count": 57,
   "id": "94864915-fdfa-4983-acbb-1527141d6a62",
   "metadata": {},
   "outputs": [],
   "source": [
    "articles = api.get_top_headlines(sources='bbc-news')\n"
   ]
  },
  {
   "cell_type": "code",
   "execution_count": 58,
   "id": "e9057e00-b37a-4b1e-8d86-025bb75f54e8",
   "metadata": {},
   "outputs": [],
   "source": [
    "titles = articles['articles'][0:3]"
   ]
  },
  {
   "cell_type": "code",
   "execution_count": 59,
   "id": "9c38b122-4821-4a53-a851-7f9908002072",
   "metadata": {},
   "outputs": [],
   "source": [
    "news_titles = []\n",
    "for x in titles:\n",
    "    news_titles.append(x['title'])"
   ]
  },
  {
   "cell_type": "code",
   "execution_count": 61,
   "id": "bb01a204-2977-4166-9793-2d509d1d8efd",
   "metadata": {},
   "outputs": [],
   "source": [
    "news_scores = []\n",
    "\n",
    "for a in news_titles:\n",
    "    prompt = (f\"Please assign the article a numerical value, with negative equalling 0, neutral = 0.5 and positive = 1: {a} Only give me a numerical value.\")\n",
    "    response = get_completion(prompt)\n",
    "    news_scores.append(response)"
   ]
  },
  {
   "cell_type": "code",
   "execution_count": 65,
   "id": "af6f8cdf-80c7-4e29-a069-01ccc6ea7315",
   "metadata": {},
   "outputs": [
    {
     "data": {
      "text/plain": [
       "['0.5', '0.5', '0.5']"
      ]
     },
     "execution_count": 65,
     "metadata": {},
     "output_type": "execute_result"
    }
   ],
   "source": [
    "news_scores"
   ]
  },
  {
   "cell_type": "code",
   "execution_count": 68,
   "id": "1b056a42-6b83-4e94-8211-1bc5315daaaf",
   "metadata": {},
   "outputs": [
    {
     "data": {
      "text/plain": [
       "[0.5, 0.5, 0.5]"
      ]
     },
     "execution_count": 68,
     "metadata": {},
     "output_type": "execute_result"
    }
   ],
   "source": [
    "int_list = [eval(i) for i in news_scores]\n",
    "int_list"
   ]
  },
  {
   "cell_type": "code",
   "execution_count": 70,
   "id": "020dbce2-3fb4-4555-a111-f5041c613ab1",
   "metadata": {},
   "outputs": [
    {
     "data": {
      "text/plain": [
       "0.5"
      ]
     },
     "execution_count": 70,
     "metadata": {},
     "output_type": "execute_result"
    }
   ],
   "source": [
    "final_score = sum(int_list) / len(int_list)\n",
    "final_score"
   ]
  },
  {
   "cell_type": "code",
   "execution_count": null,
   "id": "0dcca4f1-b39e-49db-8bc0-ffc0e3d1bdcd",
   "metadata": {},
   "outputs": [],
   "source": []
  },
  {
   "cell_type": "code",
   "execution_count": null,
   "id": "77f9f5f7-ebdb-4568-b9b2-989a2d13a4d7",
   "metadata": {},
   "outputs": [],
   "source": []
  }
 ],
 "metadata": {
  "kernelspec": {
   "display_name": "Python 3 (ipykernel)",
   "language": "python",
   "name": "python3"
  },
  "language_info": {
   "codemirror_mode": {
    "name": "ipython",
    "version": 3
   },
   "file_extension": ".py",
   "mimetype": "text/x-python",
   "name": "python",
   "nbconvert_exporter": "python",
   "pygments_lexer": "ipython3",
   "version": "3.12.0"
  }
 },
 "nbformat": 4,
 "nbformat_minor": 5
}
