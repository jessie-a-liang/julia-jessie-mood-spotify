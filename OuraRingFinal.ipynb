{
 "cells": [
  {
   "cell_type": "code",
   "execution_count": 3,
   "id": "0c75e3dd-5c9c-4d0b-82ec-5306c1091c2f",
   "metadata": {},
   "outputs": [
    {
     "name": "stdout",
     "output_type": "stream",
     "text": [
      "{'data': [{'id': '48f376dc-9a40-470e-bb2f-644b19de43e6', 'contributors': {'activity_balance': 83, 'body_temperature': 100, 'hrv_balance': None, 'previous_day_activity': 76, 'previous_night': 24, 'recovery_index': 53, 'resting_heart_rate': 89, 'sleep_balance': 52}, 'day': '2023-11-29', 'score': 64, 'temperature_deviation': -0.07, 'temperature_trend_deviation': -0.04, 'timestamp': '2023-11-29T00:00:00+00:00'}], 'next_token': None}\n"
     ]
    }
   ],
   "source": [
    "import requests \n",
    "from datetime import date\n",
    "\n",
    "url = 'https://api.ouraring.com/v2/usercollection/daily_readiness' \n",
    "params={ \n",
    "    'start_date': date.today(), \n",
    "    'end_date': date.today(), \n",
    "}\n",
    "\n",
    "with open(\"Ouraheaders.txt\", \"r\") as file:\n",
    "    key = file.read()\n",
    "\n",
    "headers = { \n",
    "  'Authorization': key \n",
    "}\n",
    "\n",
    "response = requests.request('GET', url, headers=headers, params=params) \n",
    "json_response = response.json()\n",
    "print(json_response)"
   ]
  },
  {
   "cell_type": "code",
   "execution_count": 4,
   "id": "db0fd8d3-924f-4b21-94d0-7741b501cabb",
   "metadata": {},
   "outputs": [
    {
     "data": {
      "text/plain": [
       "[{'id': '48f376dc-9a40-470e-bb2f-644b19de43e6',\n",
       "  'contributors': {'activity_balance': 83,\n",
       "   'body_temperature': 100,\n",
       "   'hrv_balance': None,\n",
       "   'previous_day_activity': 76,\n",
       "   'previous_night': 24,\n",
       "   'recovery_index': 53,\n",
       "   'resting_heart_rate': 89,\n",
       "   'sleep_balance': 52},\n",
       "  'day': '2023-11-29',\n",
       "  'score': 64,\n",
       "  'temperature_deviation': -0.07,\n",
       "  'temperature_trend_deviation': -0.04,\n",
       "  'timestamp': '2023-11-29T00:00:00+00:00'}]"
      ]
     },
     "execution_count": 4,
     "metadata": {},
     "output_type": "execute_result"
    }
   ],
   "source": [
    "test = json_response['data']\n",
    "test"
   ]
  },
  {
   "cell_type": "code",
   "execution_count": 12,
   "id": "16596ee8-1585-498e-875a-5d98ba854cd5",
   "metadata": {},
   "outputs": [
    {
     "data": {
      "text/plain": [
       "0.64"
      ]
     },
     "execution_count": 12,
     "metadata": {},
     "output_type": "execute_result"
    }
   ],
   "source": [
    "# retrieve Oura ring's readiness score which takes into consideration the user's sleep, activity, heartrate, and stress history.\n",
    "# convert readiness score to float between 0-1 and use it in spotify to get songs of relevant energy\n",
    "# note: each oura ring user has an api token. to test code without one, enter a float between 0-1 for oura variable\n",
    "# readiness = \"\"\n",
    "# if score >= 85:\n",
    "#     readiness = \"Optimal\"\n",
    "# elif score > 70 and score < 84:\n",
    "#     readiness = \"Good\"\n",
    "# elif score > 60 and score < 69:\n",
    "#     readiness = \"Fair\"\n",
    "# elif score < 60:\n",
    "#     readiness = \"Pay attention\"\n",
    "\n",
    "score = json_response['data'][0]['score']\n",
    "oura = score * .01\n",
    "oura"
   ]
  },
  {
   "cell_type": "code",
   "execution_count": 6,
   "id": "4cab304b-5b5a-48e3-acba-58c27295821f",
   "metadata": {},
   "outputs": [],
   "source": []
  },
  {
   "cell_type": "code",
   "execution_count": null,
   "id": "d752d2cd-838f-44b9-a4d2-395bfde3feb2",
   "metadata": {},
   "outputs": [],
   "source": []
  }
 ],
 "metadata": {
  "kernelspec": {
   "display_name": "Python 3 (ipykernel)",
   "language": "python",
   "name": "python3"
  },
  "language_info": {
   "codemirror_mode": {
    "name": "ipython",
    "version": 3
   },
   "file_extension": ".py",
   "mimetype": "text/x-python",
   "name": "python",
   "nbconvert_exporter": "python",
   "pygments_lexer": "ipython3",
   "version": "3.12.0"
  }
 },
 "nbformat": 4,
 "nbformat_minor": 5
}
