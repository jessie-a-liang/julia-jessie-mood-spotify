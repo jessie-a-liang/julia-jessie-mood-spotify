{
 "cells": [
  {
   "cell_type": "code",
   "execution_count": null,
   "id": "7e55403e-9146-434b-a85d-a14d28a61b25",
   "metadata": {},
   "outputs": [],
   "source": [
    "import urllib.request, json\n",
    "\n",
    "aaa = input('Enter')\n",
    "\n",
    "try:\n",
    "    url = (f\"https://api.tfl.gov.uk/crowding/{aaa}/Live\")\n",
    "\n",
    "    hdr ={\n",
    "    # Request headers\n",
    "    'Cache-Control': 'no-cache',\n",
    "    }\n",
    "\n",
    "    req = urllib.request.Request(url, headers=hdr)\n",
    "\n",
    "    req.get_method = lambda: 'GET'\n",
    "    response = urllib.request.urlopen(req)\n",
    "    a = response.read()\n",
    "except Exception as e:\n",
    "    print(e)"
   ]
  },
  {
   "cell_type": "code",
   "execution_count": 37,
   "id": "34685642-bd03-4b42-9b0c-9c77ab7b48de",
   "metadata": {},
   "outputs": [
    {
     "name": "stdout",
     "output_type": "stream",
     "text": [
      "0\n"
     ]
    }
   ],
   "source": [
    "g = a.decode('utf-8')\n",
    "data_json = json.loads(g)\n",
    "\n",
    "# Access and print the \"percentageOfBaseline\" value\n",
    "percentage_of_baseline = data_json[\"percentageOfBaseline\"]\n",
    "print(percentage_of_baseline)\n"
   ]
  },
  {
   "cell_type": "code",
   "execution_count": null,
   "id": "fae06ac9-46df-4dd8-b5a1-3bc564540e8b",
   "metadata": {},
   "outputs": [],
   "source": []
  }
 ],
 "metadata": {
  "kernelspec": {
   "display_name": "Python 3 (ipykernel)",
   "language": "python",
   "name": "python3"
  },
  "language_info": {
   "codemirror_mode": {
    "name": "ipython",
    "version": 3
   },
   "file_extension": ".py",
   "mimetype": "text/x-python",
   "name": "python",
   "nbconvert_exporter": "python",
   "pygments_lexer": "ipython3",
   "version": "3.12.0"
  }
 },
 "nbformat": 4,
 "nbformat_minor": 5
}
