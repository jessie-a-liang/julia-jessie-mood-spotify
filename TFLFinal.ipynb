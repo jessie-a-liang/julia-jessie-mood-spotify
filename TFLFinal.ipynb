{
 "cells": [
  {
   "cell_type": "code",
   "execution_count": 160,
   "id": "7e55403e-9146-434b-a85d-a14d28a61b25",
   "metadata": {},
   "outputs": [
    {
     "name": "stdin",
     "output_type": "stream",
     "text": [
      "Enter Canada Water Underground Station\n"
     ]
    }
   ],
   "source": [
    "import urllib.request, json\n",
    "\n",
    "# user inputs their start station\n",
    "station_start_input = input('Enter')\n",
    "\n",
    "# remove spaces from user input\n",
    "input_start_ns = station_start_input.replace(\" \", \"\")\n",
    "\n",
    "# get station id from user input\n",
    "try:\n",
    "    url = (f\"https://api.tfl.gov.uk/StopPoint/Search?query={input_start_ns}\")\n",
    "\n",
    "    hdr ={\n",
    "    # Request headers\n",
    "    'Cache-Control': 'no-cache',\n",
    "    }\n",
    "\n",
    "    req = urllib.request.Request(url, headers=hdr)\n",
    "\n",
    "    req.get_method = lambda: 'GET'\n",
    "    response = urllib.request.urlopen(req)\n",
    "    station_start = response.read()\n",
    "except Exception as e:\n",
    "    print(e)\n",
    "    "
   ]
  },
  {
   "cell_type": "code",
   "execution_count": 187,
   "id": "5ce78ca1-1772-4ee6-94dc-411a642f005b",
   "metadata": {},
   "outputs": [
    {
     "data": {
      "text/plain": [
       "{'$type': 'Tfl.Api.Presentation.Entities.SearchResponse, Tfl.Api.Presentation.Entities',\n",
       " 'query': 'CanadaWaterUndergroundStation',\n",
       " 'total': 1,\n",
       " 'matches': [{'$type': 'Tfl.Api.Presentation.Entities.MatchedStop, Tfl.Api.Presentation.Entities',\n",
       "   'parentId': 'HUBZCW',\n",
       "   'icsId': '1000037',\n",
       "   'topMostParentId': 'HUBZCW',\n",
       "   'modes': ['tube'],\n",
       "   'zone': '2',\n",
       "   'id': '940GZZLUCWR',\n",
       "   'name': 'Canada Water Underground Station',\n",
       "   'lat': 51.497931,\n",
       "   'lon': -0.049405}]}"
      ]
     },
     "execution_count": 187,
     "metadata": {},
     "output_type": "execute_result"
    }
   ],
   "source": [
    "station_start_decoded = station_start.decode('utf-8')\n",
    "station_start_json = json.loads(station_start_decoded)\n",
    "station_start_json\n"
   ]
  },
  {
   "cell_type": "code",
   "execution_count": 162,
   "id": "40236fde-4e91-4638-94d4-9d8cc7c8755d",
   "metadata": {},
   "outputs": [],
   "source": [
    "# station start id \n",
    "id_start = station_start_json['matches'][0]['id']"
   ]
  },
  {
   "cell_type": "code",
   "execution_count": 177,
   "id": "bdda4571-a3a9-47de-8dba-43d083f672f2",
   "metadata": {},
   "outputs": [
    {
     "name": "stdin",
     "output_type": "stream",
     "text": [
      "Enter Oxford Circus Underground Station\n"
     ]
    }
   ],
   "source": [
    "import urllib.request, json\n",
    "\n",
    "# user inputs their end station\n",
    "\n",
    "station_end_input = input('Enter')\n",
    "\n",
    "# remove spaces from user input\n",
    "\n",
    "input_end_ns = station_end_input.replace(\" \", \"\")\n",
    "\n",
    "# get station id from user input\n",
    "\n",
    "try:\n",
    "    url = (f\"https://api.tfl.gov.uk/StopPoint/Search?query={input_end_ns}\")\n",
    "\n",
    "    hdr ={\n",
    "    # Request headers\n",
    "    'Cache-Control': 'no-cache',\n",
    "    }\n",
    "\n",
    "    req = urllib.request.Request(url, headers=hdr)\n",
    "\n",
    "    req.get_method = lambda: 'GET'\n",
    "    response = urllib.request.urlopen(req)\n",
    "    station_end = response.read()\n",
    "except Exception as e:\n",
    "    print(e)\n"
   ]
  },
  {
   "cell_type": "code",
   "execution_count": 179,
   "id": "582741f6-54c5-4dec-b46b-c2d0189ff5c4",
   "metadata": {},
   "outputs": [
    {
     "data": {
      "text/plain": [
       "'940GZZLUOXC'"
      ]
     },
     "execution_count": 179,
     "metadata": {},
     "output_type": "execute_result"
    }
   ],
   "source": [
    "# station end id\n",
    "station_end_decoded = station_end.decode('utf-8')\n",
    "station_end_json = json.loads(station_end_decoded)\n",
    "station_end_json\n",
    "id_end = station_end_json['matches'][0]['id']\n",
    "id_end\n"
   ]
  },
  {
   "cell_type": "code",
   "execution_count": 180,
   "id": "fae06ac9-46df-4dd8-b5a1-3bc564540e8b",
   "metadata": {},
   "outputs": [
    {
     "data": {
      "text/plain": [
       "b'{\"dataAvailable\":true,\"percentageOfBaseline\":0.39931053,\"timeUtc\":\"2023-11-29T20:51:00.000Z\",\"timeLocal\":\"2023-11-29 20:51:00\"}'"
      ]
     },
     "execution_count": 180,
     "metadata": {},
     "output_type": "execute_result"
    }
   ],
   "source": [
    "# use station start id to find crowd level (percentage of baseline)\n",
    "try:\n",
    "    url = (f\"https://api.tfl.gov.uk/crowding/{id_start}/Live\")\n",
    "\n",
    "    hdr ={\n",
    "    # Request headers\n",
    "    'Cache-Control': 'no-cache',\n",
    "    }\n",
    "\n",
    "    req = urllib.request.Request(url, headers=hdr)\n",
    "\n",
    "    req.get_method = lambda: 'GET'\n",
    "    response = urllib.request.urlopen(req)\n",
    "    station_start_data = response.read()\n",
    "except Exception as e:\n",
    "    print(e)\n",
    "\n",
    "station_start_data"
   ]
  },
  {
   "cell_type": "code",
   "execution_count": 181,
   "id": "34685642-bd03-4b42-9b0c-9c77ab7b48de",
   "metadata": {},
   "outputs": [
    {
     "name": "stdout",
     "output_type": "stream",
     "text": [
      "0.39931053\n"
     ]
    }
   ],
   "source": [
    "station_start_data_decoded = station_start_data.decode('utf-8')\n",
    "station_start_data_decoded_json = json.loads(station_start_data_decoded)\n",
    "\n",
    "# Access and print the \"percentageOfBaseline\" value\n",
    "percentage_of_baseline_start = station_start_data_decoded_json[\"percentageOfBaseline\"]\n",
    "print(percentage_of_baseline_start)\n",
    "\n",
    "tube_crowd_start = percentage_of_baseline_start"
   ]
  },
  {
   "cell_type": "code",
   "execution_count": 182,
   "id": "7f346791-bc60-4c4d-8c65-0b36c5d11de6",
   "metadata": {},
   "outputs": [
    {
     "name": "stdout",
     "output_type": "stream",
     "text": [
      "0.26708785\n"
     ]
    }
   ],
   "source": [
    "# use station end id to find crowd level (percentage of baseline)\n",
    "\n",
    "\n",
    "try:\n",
    "    url = (f\"https://api.tfl.gov.uk/crowding/{id_end}/Live\")\n",
    "\n",
    "    hdr ={\n",
    "    # Request headers\n",
    "    'Cache-Control': 'no-cache',\n",
    "    }\n",
    "\n",
    "    req = urllib.request.Request(url, headers=hdr)\n",
    "\n",
    "    req.get_method = lambda: 'GET'\n",
    "    response = urllib.request.urlopen(req)\n",
    "    station_end_data = response.read()\n",
    "except Exception as e:\n",
    "    print(e)\n",
    "\n",
    "station_end_data_decoded = station_end_data.decode('utf-8')\n",
    "station_end_data_decoded_json = json.loads(station_end_data_decoded)\n",
    "\n",
    "# Access and print the \"percentageOfBaseline\" value\n",
    "percentage_of_baseline_end = station_end_data_decoded_json[\"percentageOfBaseline\"]\n",
    "print(percentage_of_baseline_end)\n",
    "\n",
    "tube_crowd_end = percentage_of_baseline_end"
   ]
  },
  {
   "cell_type": "code",
   "execution_count": 183,
   "id": "108e7516-e1c4-4cad-9f2c-7e20ce656e50",
   "metadata": {},
   "outputs": [
    {
     "data": {
      "text/plain": [
       "0.33319919"
      ]
     },
     "execution_count": 183,
     "metadata": {},
     "output_type": "execute_result"
    }
   ],
   "source": [
    "# get average of station start and end crowd level \n",
    "\n",
    "average_crowd = ((tube_crowd_start + tube_crowd_end)/2) \n",
    "average_crowd"
   ]
  },
  {
   "cell_type": "code",
   "execution_count": 184,
   "id": "e5a3cfb2-23e6-4790-b846-e6cda4e738a2",
   "metadata": {},
   "outputs": [],
   "source": [
    "# round to two decimals (optional)\n",
    "\n",
    "cs = round(average_crowd,2)"
   ]
  },
  {
   "cell_type": "code",
   "execution_count": 185,
   "id": "3691c5ba-5e20-4622-970b-c1188ef5d354",
   "metadata": {},
   "outputs": [
    {
     "name": "stdout",
     "output_type": "stream",
     "text": [
      "50\n",
      "100\n"
     ]
    }
   ],
   "source": [
    "# create variable for bpm input in spotify to get tracks of relevant tempo\n",
    "\n",
    "tfl_min = 0\n",
    "tfl_max = 0\n",
    "if cs < 0.2:\n",
    "    tfl_min = 0\n",
    "    tfl_max = 50\n",
    "elif cs > 0.2 and cs < 0.4:\n",
    "    tfl_min = 50\n",
    "    tfl_max = 100\n",
    "elif cs > 0.4 and cs < 0.6:\n",
    "    tfl_min = 100\n",
    "    tfl_max = 150\n",
    "elif cs > 0.6 and cs < 0.8:\n",
    "    tfl_min = 150\n",
    "    tfl_max = 200\n",
    "elif cs > 0.8:\n",
    "    tfl_min = 200\n",
    "    tfl_max = 250\n",
    "\n",
    "# tfl_min and tfl_max go into min/max tempos in spotify playlist generater code \n",
    "\n",
    "print(tfl_min)\n",
    "print(tfl_max)\n",
    "    "
   ]
  },
  {
   "cell_type": "code",
   "execution_count": null,
   "id": "1fe689da-e17a-4f5b-81db-2d99220a72ca",
   "metadata": {},
   "outputs": [],
   "source": []
  }
 ],
 "metadata": {
  "kernelspec": {
   "display_name": "Python 3 (ipykernel)",
   "language": "python",
   "name": "python3"
  },
  "language_info": {
   "codemirror_mode": {
    "name": "ipython",
    "version": 3
   },
   "file_extension": ".py",
   "mimetype": "text/x-python",
   "name": "python",
   "nbconvert_exporter": "python",
   "pygments_lexer": "ipython3",
   "version": "3.12.0"
  }
 },
 "nbformat": 4,
 "nbformat_minor": 5
}
