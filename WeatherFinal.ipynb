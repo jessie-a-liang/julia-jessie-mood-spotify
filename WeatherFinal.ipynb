{
 "cells": [
  {
   "cell_type": "code",
   "execution_count": null,
   "id": "8f51aab4-875f-4501-a97f-f074a631eed2",
   "metadata": {},
   "outputs": [
    {
     "name": "stdout",
     "output_type": "stream",
     "text": [
      "{'latitude': 51.5, 'longitude': -0.120000124, 'generationtime_ms': 0.016927719116210938, 'utc_offset_seconds': 0, 'timezone': 'Europe/London', 'timezone_abbreviation': 'GMT', 'elevation': 23.0, 'current_units': {'time': 'iso8601', 'interval': 'seconds', 'weather_code': 'wmo code'}, 'current': {'time': '2023-11-29T22:15', 'interval': 900, 'weather_code': 2}}\n"
     ]
    }
   ],
   "source": [
    "import json\n",
    "import webbrowser\n",
    "import urllib.request\n",
    "request = urllib.request.Request(\"https://api.open-meteo.com/v1/forecast?latitude=51.5085&longitude=-0.1257&current=weather_code&timezone=Europe%2FLondon\")\n",
    "response = urllib.request.urlopen(request)\n",
    "weather = json.loads(response.read())\n",
    "print(weather)"
   ]
  },
  {
   "cell_type": "code",
   "execution_count": null,
   "id": "7a15d8f6-6470-456d-8773-5f8f3a1be472",
   "metadata": {},
   "outputs": [],
   "source": [
    "wc = weather['current']['weather_code']"
   ]
  },
  {
   "cell_type": "code",
   "execution_count": null,
   "id": "769a46f6-75a1-4aa3-95ea-030c1c0b7730",
   "metadata": {},
   "outputs": [],
   "source": [
    "# use weather codes to determine mood which is inputed into spotify to get songs of relevant valence (positive/negative)\n",
    "\n",
    "weather_mood = 0\n",
    "if wc < 3:\n",
    "    weather_mood = 1\n",
    "elif wc > 2 and wc < 65:\n",
    "    weather_mood = .60\n",
    "elif wc > 65 and wc < 82:\n",
    "    weather_mood = .30\n",
    "elif wc < 82:\n",
    "    weather_mood = .10"
   ]
  },
  {
   "cell_type": "code",
   "execution_count": null,
   "id": "cdb1f2b5-ab3a-4ae8-81cd-f0a13b34c4a2",
   "metadata": {},
   "outputs": [
    {
     "name": "stdout",
     "output_type": "stream",
     "text": [
      "1\n"
     ]
    }
   ],
   "source": [
    "print(weather_mood)"
   ]
  },
  {
   "cell_type": "code",
   "execution_count": null,
   "id": "6deddc0c-326f-46f5-8c17-f1a36a676a5e",
   "metadata": {},
   "outputs": [],
   "source": []
  }
 ],
 "metadata": {
  "kernelspec": {
   "display_name": "Python 3 (ipykernel)",
   "language": "python",
   "name": "python3"
  },
  "language_info": {
   "codemirror_mode": {
    "name": "ipython",
    "version": 3
   },
   "file_extension": ".py",
   "mimetype": "text/x-python",
   "name": "python",
   "nbconvert_exporter": "python",
   "pygments_lexer": "ipython3",
   "version": "3.12.0"
  }
 },
 "nbformat": 4,
 "nbformat_minor": 5
}
